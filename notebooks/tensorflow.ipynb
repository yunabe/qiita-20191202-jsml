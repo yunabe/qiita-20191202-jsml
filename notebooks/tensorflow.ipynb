{
 "cells": [
  {
   "cell_type": "markdown",
   "metadata": {},
   "source": [
    "## JavaScriptと静的型チェック\n",
    "\n",
    "今回使用する[JavaScript/TypeScriptの実行環境 tslab](https://github.com/yunabe/tslab)はTypeScriptをベースに実装されており、JavaScriptに対してもある程度の静的型チェックを行います。\n",
    "\n",
    "```javascript\n",
    "let x = 123;\n",
    "x += ' hello';\n",
    "console.log(x);\n",
    "```\n",
    "\n",
    "例えば上のコードは1行目では`x`の型は`number`であることを意図しているようにみえるのに、2行目で`string`を代入しています。tslabはこのようなケースに対してエラーを表示します。\n",
    "\n",
    "```\n",
    "2:1 - Type 'string' is not assignable to type 'number'.\n",
    "```\n",
    "\n",
    "ただし、上記のコードは`string`の代入が本当に意図的なのであれば正当なJavaScriptのコードです。そのような場合には[JSDoc](https://www.typescriptlang.org/docs/handbook/type-checking-javascript-files.html#supported-jsdoc)を使って`x`が任意の型(`any`)をとりうることを明示する必要があります。\n",
    "\n",
    "```javascript\n",
    "/** @type {any} */\n",
    "let x = 123;\n",
    "x += ' hello';\n",
    "console.log(x);\n",
    "```\n",
    "\n",
    "このノートブックでは\n",
    "\n",
    "- `@param`, `@return`による[関数の型情報の宣言](https://www.typescriptlang.org/docs/handbook/type-checking-javascript-files.html#param-and-returns)\n",
    "- 型チェックをパスするための[キャスト](https://www.typescriptlang.org/docs/handbook/type-checking-javascript-files.html#casts)\n",
    "\n",
    "を利用しているので留意して下さい。型チェックの詳細については[Type Checking JavaScript Files\n",
    "](https://www.typescriptlang.org/docs/handbook/type-checking-javascript-files.html)を参照して下さい。\n",
    "\n",
    "またtslabでは静的型情報を使っているので、強力なコードの補完(`Tab`)と変数・関数定義情報の表示(`Shift-Tab`)が使用可能です。活用しながらコーディングして下さい。"
   ]
  },
  {
   "cell_type": "markdown",
   "metadata": {},
   "source": [
    "## TensorFlow.jsがインストールされていることの確認\n",
    "\n",
    "まず初めに、TensorFlow.jsが正しくimportでき実行できるかバージョンを表示して確かめてみましょう。ちなみにtslabでHTMLや画像を表示するには`tslab.display`を使用します。無事バージョン番号が表示されたでしょうか。\n",
    "\n",
    "ちなみにJupyter上では`Tab`でコード補完、`Shift-Tab`で関数定義などの表示が行えます。活用しながらコードを書いてください。"
   ]
  },
  {
   "cell_type": "code",
   "execution_count": 1,
   "metadata": {},
   "outputs": [
    {
     "data": {
      "text/html": [
       "<h2>tf.version</h2>"
      ]
     },
     "metadata": {},
     "output_type": "display_data"
    },
    {
     "name": "stdout",
     "output_type": "stream",
     "text": [
      "{\n",
      "  \u001b[32m'tfjs-core'\u001b[39m: \u001b[32m'1.3.2'\u001b[39m,\n",
      "  \u001b[32m'tfjs-data'\u001b[39m: \u001b[32m'1.3.2'\u001b[39m,\n",
      "  \u001b[32m'tfjs-layers'\u001b[39m: \u001b[32m'1.3.2'\u001b[39m,\n",
      "  \u001b[32m'tfjs-converter'\u001b[39m: \u001b[32m'1.3.2'\u001b[39m,\n",
      "  tfjs: \u001b[32m'1.3.2'\u001b[39m,\n",
      "  \u001b[32m'tfjs-node'\u001b[39m: \u001b[32m'1.3.2'\u001b[39m\n",
      "}\n"
     ]
    },
    {
     "data": {
      "text/html": [
       "<h2>tslab.versions</h2>"
      ]
     },
     "metadata": {},
     "output_type": "display_data"
    },
    {
     "name": "stdout",
     "output_type": "stream",
     "text": [
      "tslab.versions: { tslab: \u001b[32m'1.0.5'\u001b[39m, typescript: \u001b[32m'3.7.2'\u001b[39m, node: \u001b[32m'v12.13.0'\u001b[39m }\n"
     ]
    }
   ],
   "source": [
    "// const tf = require('@tensorflow/tfjs-node') も可能。\n",
    "import * as tf from '@tensorflow/tfjs-node'\n",
    "import * as tslab from \"tslab\";\n",
    "\n",
    "tslab.display.html('<h2>tf.version</h2>')\n",
    "console.log(tf.version);\n",
    "tslab.display.html('<h2>tslab.versions</h2>')\n",
    "console.log('tslab.versions:', tslab.versions);"
   ]
  },
  {
   "cell_type": "markdown",
   "metadata": {},
   "source": [
    "## MNIST をダウンロードする\n",
    "\n",
    "TensorFlowが無事にNodeにインストール出来たので、ニューラルネットワークモデルを実際に構築してJavaScriptでトレーニングを行ってみましょう。ここでは機械学習のチュートリアルで常に使わる手書き文字認識のデータセット[MNIST database](https://en.wikipedia.org/wiki/MNIST_database)を使って、数字の文字認識の機械学習を行ってみましょう。\n",
    "\n",
    "TensorFlow.jsのサンプルコードの中に[MNISTをダウンロードしてTensorFlowの内部表現に変換するコードの例](https://github.com/tensorflow/tfjs-examples/blob/master/mnist-node/)が存在するので今回はそれを利用します。このコードはすでに[例のレポジトリにコピーしてある](https://github.com/yunabe/qiita-20191202-jsml/blob/master/lib/mnist.js)のでここではそれを`import`します。興味があればどのような実装になっているかのぞいてみてください。\n",
    "\n",
    "`loadData()`は`Promise`を返すのでタスクの終了まで待機するのを忘れないでください。tslabはtop-level awaitをサポートしているので`await`をつけるだけでOKです。"
   ]
  },
  {
   "cell_type": "code",
   "execution_count": 2,
   "metadata": {},
   "outputs": [],
   "source": [
    "import mnist from '../lib/mnist';\n",
    "await mnist.loadData();"
   ]
  },
  {
   "cell_type": "markdown",
   "metadata": {},
   "source": [
    "## データの確認と可視化\n",
    "\n",
    "[WikipediaのMNISTの記事](https://en.wikipedia.org/wiki/MNIST_database)にも書かれているように、MNISTのデータは60,000の訓練用データ(training data)と10,000の評価用データ(test data)に事前に分けられています。実際にダウンロードされたデータの大きさを確認してみましょう。\n",
    "\n",
    "訓練データに60,000個、評価データに10,000個の数字の画像(`images`)と文字認識の正解データ(`labels`)が存在することが確認できたと思います。数字の画像データは28x28の白黒1チャンネル（グレースケール）であることも分かります。\n",
    "\n",
    "ちなみにデータの内部表現として使われている[`Tensor`のAPIはここにドキュメントがあります](https://js.tensorflow.org/api/latest/#class:Tensor)。"
   ]
  },
  {
   "cell_type": "code",
   "execution_count": 3,
   "metadata": {},
   "outputs": [
    {
     "data": {
      "text/html": [
       "<h2>訓練データのサイズ</h2>"
      ]
     },
     "metadata": {},
     "output_type": "display_data"
    },
    {
     "name": "stdout",
     "output_type": "stream",
     "text": [
      "{\n",
      "  images: Tensor {\n",
      "    kept: \u001b[33mfalse\u001b[39m,\n",
      "    isDisposedInternal: \u001b[33mfalse\u001b[39m,\n",
      "    shape: [ \u001b[33m60000\u001b[39m, \u001b[33m28\u001b[39m, \u001b[33m28\u001b[39m, \u001b[33m1\u001b[39m ],\n",
      "    dtype: \u001b[32m'float32'\u001b[39m,\n",
      "    size: \u001b[33m47040000\u001b[39m,\n",
      "    strides: [ \u001b[33m784\u001b[39m, \u001b[33m28\u001b[39m, \u001b[33m1\u001b[39m ],\n",
      "    dataId: {},\n",
      "    id: \u001b[33m0\u001b[39m,\n",
      "    rankType: \u001b[32m'4'\u001b[39m\n",
      "  },\n",
      "  labels: Tensor {\n",
      "    kept: \u001b[33mfalse\u001b[39m,\n",
      "    isDisposedInternal: \u001b[33mfalse\u001b[39m,\n",
      "    shape: [ \u001b[33m60000\u001b[39m, \u001b[33m10\u001b[39m ],\n",
      "    dtype: \u001b[32m'float32'\u001b[39m,\n",
      "    size: \u001b[33m600000\u001b[39m,\n",
      "    strides: [ \u001b[33m10\u001b[39m ],\n",
      "    dataId: {},\n",
      "    id: \u001b[33m10\u001b[39m,\n",
      "    rankType: \u001b[32m'2'\u001b[39m,\n",
      "    scopeId: \u001b[33m6\u001b[39m\n",
      "  }\n",
      "}\n"
     ]
    },
    {
     "data": {
      "text/html": [
       "<h2>評価データのサイズ</h2>"
      ]
     },
     "metadata": {},
     "output_type": "display_data"
    },
    {
     "name": "stdout",
     "output_type": "stream",
     "text": [
      "{\n",
      "  images: Tensor {\n",
      "    kept: \u001b[33mfalse\u001b[39m,\n",
      "    isDisposedInternal: \u001b[33mfalse\u001b[39m,\n",
      "    shape: [ \u001b[33m10000\u001b[39m, \u001b[33m28\u001b[39m, \u001b[33m28\u001b[39m, \u001b[33m1\u001b[39m ],\n",
      "    dtype: \u001b[32m'float32'\u001b[39m,\n",
      "    size: \u001b[33m7840000\u001b[39m,\n",
      "    strides: [ \u001b[33m784\u001b[39m, \u001b[33m28\u001b[39m, \u001b[33m1\u001b[39m ],\n",
      "    dataId: {},\n",
      "    id: \u001b[33m11\u001b[39m,\n",
      "    rankType: \u001b[32m'4'\u001b[39m\n",
      "  },\n",
      "  labels: Tensor {\n",
      "    kept: \u001b[33mfalse\u001b[39m,\n",
      "    isDisposedInternal: \u001b[33mfalse\u001b[39m,\n",
      "    shape: [ \u001b[33m10000\u001b[39m, \u001b[33m10\u001b[39m ],\n",
      "    dtype: \u001b[32m'float32'\u001b[39m,\n",
      "    size: \u001b[33m100000\u001b[39m,\n",
      "    strides: [ \u001b[33m10\u001b[39m ],\n",
      "    dataId: {},\n",
      "    id: \u001b[33m21\u001b[39m,\n",
      "    rankType: \u001b[32m'2'\u001b[39m,\n",
      "    scopeId: \u001b[33m14\u001b[39m\n",
      "  }\n",
      "}\n"
     ]
    }
   ],
   "source": [
    "tslab.display.html('<h2>訓練データのサイズ</h2>')\n",
    "console.log(mnist.getTrainData());\n",
    "tslab.display.html('<h2>評価データのサイズ</h2>')\n",
    "console.log(mnist.getTestData());"
   ]
  },
  {
   "cell_type": "markdown",
   "metadata": {},
   "source": [
    "次にMNISTのデータの可視化もしてみましょう。MNISTの画像データは28x28の`0`から`1.0`のグレースケールのデータの配列です。画像ライブラリ`jimp`を使用してPNGに変換して可視化してみます。"
   ]
  },
  {
   "cell_type": "code",
   "execution_count": 4,
   "metadata": {},
   "outputs": [],
   "source": [
    "import Jimp from 'jimp';\n",
    "import {promisify} from 'util';\n",
    "\n",
    "/**\n",
    " * @param {tf.Tensor4D} images\n",
    " * @param {number} start\n",
    " * @param {number} size\n",
    " * @return {Promise<Buffer[]>}\n",
    " */\n",
    "async function toPng(images, start, size) {\n",
    "    // Note: mnist.getTrainData().images.slice([index], [1]) is slow.\n",
    "    let arry = images.slice([start], [size]).flatten().arraySync();\n",
    "    let ret = [];\n",
    "    for (let i = 0; i < size; i++) {\n",
    "        let raw = [];\n",
    "        for (const v of arry.slice(i * 28 * 28, (i+1)*28*28)) {\n",
    "            raw.push(...[v*255, v*255, v*255, 255])\n",
    "        }\n",
    "        let img = await promisify(cb => {\n",
    "            new Jimp({ data: Buffer.from(raw), width: 28, height: 28 }, cb);\n",
    "        })();\n",
    "        ret.push(await img.getBufferAsync(Jimp.MIME_PNG));\n",
    "    }\n",
    "    return ret;\n",
    "}"
   ]
  },
  {
   "cell_type": "code",
   "execution_count": 5,
   "metadata": {},
   "outputs": [
    {
     "data": {
      "text/html": [
       "<h3>label: 7</h3>"
      ]
     },
     "metadata": {},
     "output_type": "display_data"
    },
    {
     "data": {
      "image/png": "[encoded data removed]"
     },
     "metadata": {},
     "output_type": "display_data"
    },
    {
     "data": {
      "text/html": [
       "<h3>label: 2</h3>"
      ]
     },
     "metadata": {},
     "output_type": "display_data"
    },
    {
     "data": {
      "image/png": "[encoded data removed]"
     },
     "metadata": {},
     "output_type": "display_data"
    },
    {
     "data": {
      "text/html": [
       "<h3>label: 1</h3>"
      ]
     },
     "metadata": {},
     "output_type": "display_data"
    },
    {
     "data": {
      "image/png": "[encoded data removed]"
     },
     "metadata": {},
     "output_type": "display_data"
    },
    {
     "data": {
      "text/html": [
       "<h3>label: 0</h3>"
      ]
     },
     "metadata": {},
     "output_type": "display_data"
    },
    {
     "data": {
      "image/png": "[encoded data removed]"
     },
     "metadata": {},
     "output_type": "display_data"
    },
    {
     "data": {
      "text/html": [
       "<h3>label: 4</h3>"
      ]
     },
     "metadata": {},
     "output_type": "display_data"
    },
    {
     "data": {
      "image/png": "[encoded data removed]"
     },
     "metadata": {},
     "output_type": "display_data"
    },
    {
     "data": {
      "text/html": [
       "<h3>label: 1</h3>"
      ]
     },
     "metadata": {},
     "output_type": "display_data"
    },
    {
     "data": {
      "image/png": "[encoded data removed]"
     },
     "metadata": {},
     "output_type": "display_data"
    },
    {
     "data": {
      "text/html": [
       "<h3>label: 4</h3>"
      ]
     },
     "metadata": {},
     "output_type": "display_data"
    },
    {
     "data": {
      "image/png": "[encoded data removed]"
     },
     "metadata": {},
     "output_type": "display_data"
    },
    {
     "data": {
      "text/html": [
       "<h3>label: 9</h3>"
      ]
     },
     "metadata": {},
     "output_type": "display_data"
    },
    {
     "data": {
      "image/png": "[encoded data removed]"
     },
     "metadata": {},
     "output_type": "display_data"
    }
   ],
   "source": [
    "{\n",
    "    const size = 8;\n",
    "    const labels = await mnist.getTestData().labels.slice([0], [size]).argMax(1).array();\n",
    "    const pngs = await toPng(mnist.getTestData().images, 0, size);\n",
    "    for (let i = 0; i < size; i++) {\n",
    "        tslab.display.html(`<h3>label: ${labels[i]}</h3>`)\n",
    "        tslab.display.png(pngs[i]);\n",
    "    }\n",
    "}       "
   ]
  },
  {
   "cell_type": "markdown",
   "metadata": {},
   "source": [
    "## ディープラーニングで文字認識を行う\n",
    "\n",
    "MNISTのデータの素性が一通り分かったので、TensorFlow.jsを使って「ディープニューラルネットワーク」機械学習のモデルを設計、訓練し文字認識を行ってみます。\n",
    "初めは[PythonのTensorFlowチュートリアル](https://www.tensorflow.org/tutorials/quickstart/beginner)でも利用されている、128ノードの中間層を一つ持つ単純な\"ディープ\"ニューラルネットワークモデルを使って文字認識を行います。\n",
    "\n",
    "[TensorFlow.jsは、PythonのTensorFlowでも使われているkerasをベースにしたAPIを提供しています](https://www.tensorflow.org/js/guide/layers_for_keras_users)。そのためこの程度のシンプルなディープニューラルネットワークはTensorFlow.jsでも非常に簡単に実装できます。[Layer APIの詳細はTensorFlow.jsのドキュメント](https://www.tensorflow.org/js/guide/models_and_layers)を参照してください。"
   ]
  },
  {
   "cell_type": "code",
   "execution_count": 6,
   "metadata": {},
   "outputs": [],
   "source": [
    "const model = tf.sequential();\n",
    "model.add(tf.layers.flatten({inputShape: [28, 28, 1]}));\n",
    "model.add(tf.layers.dense({units: 128, activation: 'relu'}));\n",
    "model.add(tf.layers.dropout({rate: 0.2}));\n",
    "model.add(tf.layers.dense({units: 10, activation: 'softmax'}));\n",
    "\n",
    "model.compile({\n",
    "  optimizer: 'adam',\n",
    "  loss: 'categoricalCrossentropy',\n",
    "  metrics: ['accuracy'],\n",
    "});"
   ]
  },
  {
   "cell_type": "code",
   "execution_count": 7,
   "metadata": {},
   "outputs": [],
   "source": [
    "/**\n",
    " * @param {tf.Sequential} model\n",
    " * @param {number} epochs\n",
    " * @param {number} batchSize\n",
    " * @param {string} modelSavePath\n",
    " */\n",
    "async function train(model, epochs, batchSize, modelSavePath) {\n",
    "  // Hack to suppress the progress bar by TensorFlow.js\n",
    "  process.stderr.isTTY = false;\n",
    "  const {images: trainImages, labels: trainLabels} = mnist.getTrainData();\n",
    "  model.summary();\n",
    "\n",
    "  let epochBeginTime;\n",
    "  let millisPerStep;\n",
    "  const validationSplit = 0.15;\n",
    "  const numTrainExamplesPerEpoch =\n",
    "      trainImages.shape[0] * (1 - validationSplit);\n",
    "  const numTrainBatchesPerEpoch =\n",
    "      Math.ceil(numTrainExamplesPerEpoch / batchSize);\n",
    "  const batchesPerEpoch = Math.floor(trainImages.shape[0]*(1-validationSplit)/batchSize);\n",
    "  /** @type {tslab.Display} */\n",
    "  let display = null;\n",
    "  await model.fit(trainImages, trainLabels, {\n",
    "    callbacks: {\n",
    "      onEpochBegin: (epoch) => {\n",
    "        display = tslab.newDisplay();\n",
    "      },\n",
    "      onBatchBegin: (batch) => {\n",
    "        display.text(`Progress: ${(100*batch/batchesPerEpoch).toFixed(1)}%`)\n",
    "      },\n",
    "    },\n",
    "    epochs,\n",
    "    batchSize,\n",
    "    validationSplit,\n",
    "  });\n",
    "\n",
    "  const {images: testImages, labels: testLabels} = mnist.getTestData();\n",
    "  const evalOutput = model.evaluate(testImages, testLabels);\n",
    "\n",
    "  console.log(\n",
    "      `\\nEvaluation result:\\n` +\n",
    "      `  Loss = ${evalOutput[0].dataSync()[0].toFixed(3)}; `+\n",
    "      `Accuracy = ${evalOutput[1].dataSync()[0].toFixed(3)}`);\n",
    "\n",
    "  if (modelSavePath != null) {\n",
    "    await model.save(`file://${modelSavePath}`);\n",
    "    console.log(`Saved model to path: ${modelSavePath}`);\n",
    "  }\n",
    "}"
   ]
  },
  {
   "cell_type": "code",
   "execution_count": 8,
   "metadata": {},
   "outputs": [
    {
     "name": "stdout",
     "output_type": "stream",
     "text": [
      "_________________________________________________________________\n",
      "Layer (type)                 Output shape              Param #   \n",
      "=================================================================\n",
      "flatten_Flatten1 (Flatten)   [null,784]                0         \n",
      "_________________________________________________________________\n",
      "dense_Dense1 (Dense)         [null,128]                100480    \n",
      "_________________________________________________________________\n",
      "dropout_Dropout1 (Dropout)   [null,128]                0         \n",
      "_________________________________________________________________\n",
      "dense_Dense2 (Dense)         [null,10]                 1290      \n",
      "=================================================================\n",
      "Total params: 101770\n",
      "Trainable params: 101770\n",
      "Non-trainable params: 0\n",
      "_________________________________________________________________\n",
      "Epoch 1 / 5\n"
     ]
    },
    {
     "data": {
      "text/plain": [
       "Progress: 100.0%"
      ]
     },
     "metadata": {},
     "output_type": "display_data"
    },
    {
     "name": "stderr",
     "output_type": "stream",
     "text": [
      "\n"
     ]
    },
    {
     "name": "stdout",
     "output_type": "stream",
     "text": [
      "16931ms 332us/step - acc=0.906 loss=0.328 val_acc=0.958 val_loss=0.145 \n",
      "Epoch 2 / 5\n"
     ]
    },
    {
     "data": {
      "text/plain": [
       "Progress: 100.0%"
      ]
     },
     "metadata": {},
     "output_type": "display_data"
    },
    {
     "name": "stderr",
     "output_type": "stream",
     "text": [
      "\n"
     ]
    },
    {
     "name": "stdout",
     "output_type": "stream",
     "text": [
      "14936ms 293us/step - acc=0.953 loss=0.160 val_acc=0.971 val_loss=0.103 \n",
      "Epoch 3 / 5\n"
     ]
    },
    {
     "data": {
      "text/plain": [
       "Progress: 100.0%"
      ]
     },
     "metadata": {},
     "output_type": "display_data"
    },
    {
     "name": "stderr",
     "output_type": "stream",
     "text": [
      "\n"
     ]
    },
    {
     "name": "stdout",
     "output_type": "stream",
     "text": [
      "14905ms 292us/step - acc=0.964 loss=0.121 val_acc=0.973 val_loss=0.0910 \n",
      "Epoch 4 / 5\n"
     ]
    },
    {
     "data": {
      "text/plain": [
       "Progress: 100.0%"
      ]
     },
     "metadata": {},
     "output_type": "display_data"
    },
    {
     "name": "stderr",
     "output_type": "stream",
     "text": [
      "\n"
     ]
    },
    {
     "name": "stdout",
     "output_type": "stream",
     "text": [
      "14268ms 280us/step - acc=0.971 loss=0.0960 val_acc=0.975 val_loss=0.0811 \n",
      "Epoch 5 / 5\n"
     ]
    },
    {
     "data": {
      "text/plain": [
       "Progress: 100.0%"
      ]
     },
     "metadata": {},
     "output_type": "display_data"
    },
    {
     "name": "stderr",
     "output_type": "stream",
     "text": [
      "\n"
     ]
    },
    {
     "name": "stdout",
     "output_type": "stream",
     "text": [
      "14906ms 292us/step - acc=0.974 loss=0.0845 val_acc=0.975 val_loss=0.0796 \n",
      "\n",
      "Evaluation result:\n",
      "  Loss = 0.077; Accuracy = 0.976\n",
      "Saved model to path: mnist\n"
     ]
    }
   ],
   "source": [
    "const epochs = 5;\n",
    "const batchSize = 32;\n",
    "const modelSavePath = 'mnist'\n",
    "await train(model, epochs, batchSize, modelSavePath);"
   ]
  },
  {
   "cell_type": "markdown",
   "metadata": {},
   "source": [
    "## トレーニングしたモデルを実行する\n",
    "\n",
    "98%とそこそこ精度のよい文字認識のモデルができたので実際にテストデータを使って文字認識を行ってみましょう。"
   ]
  },
  {
   "cell_type": "code",
   "execution_count": 9,
   "metadata": {},
   "outputs": [
    {
     "name": "stdout",
     "output_type": "stream",
     "text": [
      "predictions: [\n",
      "  \u001b[33m7\u001b[39m, \u001b[33m2\u001b[39m, \u001b[33m1\u001b[39m, \u001b[33m0\u001b[39m, \u001b[33m4\u001b[39m,\n",
      "  \u001b[33m1\u001b[39m, \u001b[33m4\u001b[39m, \u001b[33m9\u001b[39m, \u001b[33m5\u001b[39m, \u001b[33m9\u001b[39m\n",
      "]\n",
      "labels: [\n",
      "  \u001b[33m7\u001b[39m, \u001b[33m2\u001b[39m, \u001b[33m1\u001b[39m, \u001b[33m0\u001b[39m, \u001b[33m4\u001b[39m,\n",
      "  \u001b[33m1\u001b[39m, \u001b[33m4\u001b[39m, \u001b[33m9\u001b[39m, \u001b[33m5\u001b[39m, \u001b[33m9\u001b[39m\n",
      "]\n"
     ]
    }
   ],
   "source": [
    "const predicted = /** @type {number[]} */(tf.argMax(/** @type {tf.Tensor} */ (model.predict(mnist.getTestData().images)), 1).arraySync());\n",
    "const labels = /** @type {number[]} */(tf.argMax(mnist.getTestData().labels, 1).arraySync());\n",
    "console.log('predictions:', predicted.slice(0, 10));\n",
    "console.log('labels:', labels.slice(0, 10));"
   ]
  },
  {
   "cell_type": "markdown",
   "metadata": {},
   "source": [
    "正しく文字認識ができていますね。せっかくなので文字認識に失敗する例を可視化してみましょう。精度が98%程度あるとはいえ、人間であれば間違えないようなものが多いですね。"
   ]
  },
  {
   "cell_type": "code",
   "execution_count": 10,
   "metadata": {},
   "outputs": [
    {
     "data": {
      "text/html": [
       "<h3>予測: 4, 正解: 9</h3>"
      ]
     },
     "metadata": {},
     "output_type": "display_data"
    },
    {
     "data": {
      "image/png": "[encoded data removed]"
     },
     "metadata": {},
     "output_type": "display_data"
    },
    {
     "data": {
      "text/html": [
       "<h3>予測: 8, 正解: 9</h3>"
      ]
     },
     "metadata": {},
     "output_type": "display_data"
    },
    {
     "data": {
      "image/png": "[encoded data removed]"
     },
     "metadata": {},
     "output_type": "display_data"
    },
    {
     "data": {
      "text/html": [
       "<h3>予測: 2, 正解: 4</h3>"
      ]
     },
     "metadata": {},
     "output_type": "display_data"
    },
    {
     "data": {
      "image/png": "[encoded data removed]"
     },
     "metadata": {},
     "output_type": "display_data"
    },
    {
     "data": {
      "text/html": [
       "<h3>予測: 0, 正解: 6</h3>"
      ]
     },
     "metadata": {},
     "output_type": "display_data"
    },
    {
     "data": {
      "image/png": "[encoded data removed]"
     },
     "metadata": {},
     "output_type": "display_data"
    },
    {
     "data": {
      "text/html": [
       "<h3>予測: 7, 正解: 2</h3>"
      ]
     },
     "metadata": {},
     "output_type": "display_data"
    },
    {
     "data": {
      "image/png": "[encoded data removed]"
     },
     "metadata": {},
     "output_type": "display_data"
    },
    {
     "data": {
      "text/html": [
       "<h3>予測: 3, 正解: 5</h3>"
      ]
     },
     "metadata": {},
     "output_type": "display_data"
    },
    {
     "data": {
      "image/png": "[encoded data removed]"
     },
     "metadata": {},
     "output_type": "display_data"
    },
    {
     "data": {
      "text/html": [
       "<h3>予測: 7, 正解: 3</h3>"
      ]
     },
     "metadata": {},
     "output_type": "display_data"
    },
    {
     "data": {
      "image/png": "[encoded data removed]"
     },
     "metadata": {},
     "output_type": "display_data"
    },
    {
     "data": {
      "text/html": [
       "<h3>予測: 3, 正解: 2</h3>"
      ]
     },
     "metadata": {},
     "output_type": "display_data"
    },
    {
     "data": {
      "image/png": "[encoded data removed]"
     },
     "metadata": {},
     "output_type": "display_data"
    },
    {
     "data": {
      "text/html": [
       "<h3>予測: 2, 正解: 8</h3>"
      ]
     },
     "metadata": {},
     "output_type": "display_data"
    },
    {
     "data": {
      "image/png": "[encoded data removed]"
     },
     "metadata": {},
     "output_type": "display_data"
    },
    {
     "data": {
      "text/html": [
       "<h3>予測: 3, 正解: 7</h3>"
      ]
     },
     "metadata": {},
     "output_type": "display_data"
    },
    {
     "data": {
      "image/png": "[encoded data removed]"
     },
     "metadata": {},
     "output_type": "display_data"
    },
    {
     "data": {
      "text/html": [
       "<h3>予測: 2, 正解: 8</h3>"
      ]
     },
     "metadata": {},
     "output_type": "display_data"
    },
    {
     "data": {
      "image/png": "[encoded data removed]"
     },
     "metadata": {},
     "output_type": "display_data"
    },
    {
     "data": {
      "text/html": [
       "<h3>予測: 8, 正解: 2</h3>"
      ]
     },
     "metadata": {},
     "output_type": "display_data"
    },
    {
     "data": {
      "image/png": "[encoded data removed]"
     },
     "metadata": {},
     "output_type": "display_data"
    },
    {
     "data": {
      "text/html": [
       "<h3>予測: 8, 正解: 1</h3>"
      ]
     },
     "metadata": {},
     "output_type": "display_data"
    },
    {
     "data": {
      "image/png": "[encoded data removed]"
     },
     "metadata": {},
     "output_type": "display_data"
    },
    {
     "data": {
      "text/html": [
       "<h3>予測: 8, 正解: 2</h3>"
      ]
     },
     "metadata": {},
     "output_type": "display_data"
    },
    {
     "data": {
      "image/png": "[encoded data removed]"
     },
     "metadata": {},
     "output_type": "display_data"
    },
    {
     "data": {
      "text/html": [
       "<h3>予測: 3, 正解: 7</h3>"
      ]
     },
     "metadata": {},
     "output_type": "display_data"
    },
    {
     "data": {
      "image/png": "[encoded data removed]"
     },
     "metadata": {},
     "output_type": "display_data"
    },
    {
     "data": {
      "text/html": [
       "<h3>予測: 4, 正解: 8</h3>"
      ]
     },
     "metadata": {},
     "output_type": "display_data"
    },
    {
     "data": {
      "image/png": "[encoded data removed]"
     },
     "metadata": {},
     "output_type": "display_data"
    },
    {
     "data": {
      "text/html": [
       "<h3>予測: 8, 正解: 5</h3>"
      ]
     },
     "metadata": {},
     "output_type": "display_data"
    },
    {
     "data": {
      "image/png": "[encoded data removed]"
     },
     "metadata": {},
     "output_type": "display_data"
    },
    {
     "data": {
      "text/html": [
       "<h3>予測: 9, 正解: 4</h3>"
      ]
     },
     "metadata": {},
     "output_type": "display_data"
    },
    {
     "data": {
      "image/png": "[encoded data removed]"
     },
     "metadata": {},
     "output_type": "display_data"
    },
    {
     "data": {
      "text/html": [
       "<h3>予測: 7, 正解: 8</h3>"
      ]
     },
     "metadata": {},
     "output_type": "display_data"
    },
    {
     "data": {
      "image/png": "[encoded data removed]"
     },
     "metadata": {},
     "output_type": "display_data"
    },
    {
     "data": {
      "text/html": [
       "<h3>予測: 7, 正解: 2</h3>"
      ]
     },
     "metadata": {},
     "output_type": "display_data"
    },
    {
     "data": {
      "image/png": "[encoded data removed]"
     },
     "metadata": {},
     "output_type": "display_data"
    },
    {
     "data": {
      "text/html": [
       "<h3>予測: 5, 正解: 3</h3>"
      ]
     },
     "metadata": {},
     "output_type": "display_data"
    },
    {
     "data": {
      "image/png": "[encoded data removed]"
     },
     "metadata": {},
     "output_type": "display_data"
    },
    {
     "data": {
      "text/html": [
       "<h3>予測: 8, 正解: 3</h3>"
      ]
     },
     "metadata": {},
     "output_type": "display_data"
    },
    {
     "data": {
      "image/png": "[encoded data removed]"
     },
     "metadata": {},
     "output_type": "display_data"
    },
    {
     "data": {
      "text/html": [
       "<h3>予測: 4, 正解: 5</h3>"
      ]
     },
     "metadata": {},
     "output_type": "display_data"
    },
    {
     "data": {
      "image/png": "[encoded data removed]"
     },
     "metadata": {},
     "output_type": "display_data"
    },
    {
     "data": {
      "text/html": [
       "<h3>予測: 0, 正解: 6</h3>"
      ]
     },
     "metadata": {},
     "output_type": "display_data"
    },
    {
     "data": {
      "image/png": "[encoded data removed]"
     },
     "metadata": {},
     "output_type": "display_data"
    },
    {
     "data": {
      "text/html": [
       "<h3>予測: 5, 正解: 6</h3>"
      ]
     },
     "metadata": {},
     "output_type": "display_data"
    },
    {
     "data": {
      "image/png": "[encoded data removed]"
     },
     "metadata": {},
     "output_type": "display_data"
    },
    {
     "data": {
      "text/html": [
       "<h3>予測: 8, 正解: 5</h3>"
      ]
     },
     "metadata": {},
     "output_type": "display_data"
    },
    {
     "data": {
      "image/png": "[encoded data removed]"
     },
     "metadata": {},
     "output_type": "display_data"
    },
    {
     "data": {
      "text/html": [
       "<h3>予測: 2, 正解: 7</h3>"
      ]
     },
     "metadata": {},
     "output_type": "display_data"
    },
    {
     "data": {
      "image/png": "[encoded data removed]"
     },
     "metadata": {},
     "output_type": "display_data"
    },
    {
     "data": {
      "text/html": [
       "<h3>予測: 6, 正解: 4</h3>"
      ]
     },
     "metadata": {},
     "output_type": "display_data"
    },
    {
     "data": {
      "image/png": "[encoded data removed]"
     },
     "metadata": {},
     "output_type": "display_data"
    },
    {
     "data": {
      "text/html": [
       "<h3>予測: 8, 正解: 7</h3>"
      ]
     },
     "metadata": {},
     "output_type": "display_data"
    },
    {
     "data": {
      "image/png": "[encoded data removed]"
     },
     "metadata": {},
     "output_type": "display_data"
    },
    {
     "data": {
      "text/html": [
       "<h3>予測: 1, 正解: 6</h3>"
      ]
     },
     "metadata": {},
     "output_type": "display_data"
    },
    {
     "data": {
      "image/png": "[encoded data removed]"
     },
     "metadata": {},
     "output_type": "display_data"
    },
    {
     "data": {
      "text/html": [
       "<h3>予測: 8, 正解: 6</h3>"
      ]
     },
     "metadata": {},
     "output_type": "display_data"
    },
    {
     "data": {
      "image/png": "[encoded data removed]"
     },
     "metadata": {},
     "output_type": "display_data"
    },
    {
     "data": {
      "text/html": [
       "<h3>予測: 2, 正解: 7</h3>"
      ]
     },
     "metadata": {},
     "output_type": "display_data"
    },
    {
     "data": {
      "image/png": "[encoded data removed]"
     },
     "metadata": {},
     "output_type": "display_data"
    }
   ],
   "source": [
    "const predicted = /** @type {number[]} */(tf.argMax(/** @type {tf.Tensor} */ (model.predict(mnist.getTestData().images)), 1).arraySync());\n",
    "const labels = /** @type {number[]} */(tf.argMax(mnist.getTestData().labels, 1).arraySync());\n",
    "\n",
    "const numSamples = 32;\n",
    "let count = 0;\n",
    "for (let i = 0; i < predicted.length && labels.length; i++) {\n",
    "    const pred = predicted[i];\n",
    "    const label = labels[i];\n",
    "    if (pred === label) {\n",
    "        continue;\n",
    "    }\n",
    "    tslab.display.html(`<h3>予測: ${pred}, 正解: ${label}</h3>`)\n",
    "    const pngs = await toPng(mnist.getTestData().images, i, 1);\n",
    "    tslab.display.png(pngs[0]);\n",
    "    count++;\n",
    "    if (count >= numSamples) {\n",
    "        break;\n",
    "    }\n",
    "}"
   ]
  },
  {
   "cell_type": "markdown",
   "metadata": {},
   "source": [
    "# CNN (convolutional neural network) による画像認識\n",
    "\n",
    "MNISTの文字列認識は典型的な画像を対象としたディープラーニングなので、[CNNによるディープラーニング](https://developers.google.com/machine-learning/glossary/#convolutional_neural_network)も試してみましょう。モデルの構造は[TensorFlow.jsの例から拝借してきます](https://github.com/tensorflow/tfjs-examples/tree/master/mnist-node)。"
   ]
  },
  {
   "cell_type": "code",
   "execution_count": 11,
   "metadata": {},
   "outputs": [],
   "source": [
    "const cnnModel = tf.sequential();\n",
    "cnnModel.add(tf.layers.conv2d({\n",
    "  inputShape: [28, 28, 1],\n",
    "  filters: 32,\n",
    "  kernelSize: 3,\n",
    "  activation: 'relu',\n",
    "}));\n",
    "cnnModel.add(tf.layers.conv2d({\n",
    "  filters: 32,\n",
    "  kernelSize: 3,\n",
    "  activation: 'relu',\n",
    "}));\n",
    "cnnModel.add(tf.layers.maxPooling2d({poolSize: [2, 2]}));\n",
    "cnnModel.add(tf.layers.conv2d({\n",
    "  filters: 64,\n",
    "  kernelSize: 3,\n",
    "  activation: 'relu',\n",
    "}));\n",
    "cnnModel.add(tf.layers.conv2d({\n",
    "  filters: 64,\n",
    "  kernelSize: 3,\n",
    "  activation: 'relu',\n",
    "}));\n",
    "cnnModel.add(tf.layers.maxPooling2d({poolSize: [2, 2]}));\n",
    "cnnModel.add(tf.layers.flatten());\n",
    "cnnModel.add(tf.layers.dropout({rate: 0.25}));\n",
    "cnnModel.add(tf.layers.dense({units: 512, activation: 'relu'}));\n",
    "cnnModel.add(tf.layers.dropout({rate: 0.5}));\n",
    "cnnModel.add(tf.layers.dense({units: 10, activation: 'softmax'}));\n",
    "\n",
    "const optimizer = 'rmsprop';\n",
    "cnnModel.compile({\n",
    "  optimizer: optimizer,\n",
    "  loss: 'categoricalCrossentropy',\n",
    "  metrics: ['accuracy'],\n",
    "});"
   ]
  },
  {
   "cell_type": "markdown",
   "metadata": {},
   "source": [
    "最初のモデルに比べると構造が複雑なのでトレーニングには時間がかかります。GPUが使える場合はGPUによる高速化の威力がよく実感できると思います。"
   ]
  },
  {
   "cell_type": "code",
   "execution_count": 12,
   "metadata": {},
   "outputs": [
    {
     "name": "stdout",
     "output_type": "stream",
     "text": [
      "_________________________________________________________________\n",
      "Layer (type)                 Output shape              Param #   \n",
      "=================================================================\n",
      "conv2d_Conv2D1 (Conv2D)      [null,26,26,32]           320       \n",
      "_________________________________________________________________\n",
      "conv2d_Conv2D2 (Conv2D)      [null,24,24,32]           9248      \n",
      "_________________________________________________________________\n",
      "max_pooling2d_MaxPooling2D1  [null,12,12,32]           0         \n",
      "_________________________________________________________________\n",
      "conv2d_Conv2D3 (Conv2D)      [null,10,10,64]           18496     \n",
      "_________________________________________________________________\n",
      "conv2d_Conv2D4 (Conv2D)      [null,8,8,64]             36928     \n",
      "_________________________________________________________________\n",
      "max_pooling2d_MaxPooling2D2  [null,4,4,64]             0         \n",
      "_________________________________________________________________\n",
      "flatten_Flatten2 (Flatten)   [null,1024]               0         \n",
      "_________________________________________________________________\n",
      "dropout_Dropout2 (Dropout)   [null,1024]               0         \n",
      "_________________________________________________________________\n",
      "dense_Dense3 (Dense)         [null,512]                524800    \n",
      "_________________________________________________________________\n",
      "dropout_Dropout3 (Dropout)   [null,512]                0         \n",
      "_________________________________________________________________\n",
      "dense_Dense4 (Dense)         [null,10]                 5130      \n",
      "=================================================================\n",
      "Total params: 594922\n",
      "Trainable params: 594922\n",
      "Non-trainable params: 0\n",
      "_________________________________________________________________\n",
      "Epoch 1 / 20\n"
     ]
    },
    {
     "data": {
      "text/plain": [
       "Progress: 100.0%"
      ]
     },
     "metadata": {},
     "output_type": "display_data"
    },
    {
     "name": "stderr",
     "output_type": "stream",
     "text": [
      "\n"
     ]
    },
    {
     "name": "stdout",
     "output_type": "stream",
     "text": [
      "40096ms 786us/step - acc=0.922 loss=0.250 val_acc=0.982 val_loss=0.0641 \n",
      "Epoch 2 / 20\n"
     ]
    },
    {
     "data": {
      "text/plain": [
       "Progress: 100.0%"
      ]
     },
     "metadata": {},
     "output_type": "display_data"
    },
    {
     "name": "stderr",
     "output_type": "stream",
     "text": [
      "\n"
     ]
    },
    {
     "name": "stdout",
     "output_type": "stream",
     "text": [
      "38724ms 759us/step - acc=0.978 loss=0.0700 val_acc=0.984 val_loss=0.0571 \n",
      "Epoch 3 / 20\n"
     ]
    },
    {
     "data": {
      "text/plain": [
       "Progress: 100.0%"
      ]
     },
     "metadata": {},
     "output_type": "display_data"
    },
    {
     "name": "stderr",
     "output_type": "stream",
     "text": [
      "\n"
     ]
    },
    {
     "name": "stdout",
     "output_type": "stream",
     "text": [
      "38442ms 754us/step - acc=0.985 loss=0.0487 val_acc=0.983 val_loss=0.0554 \n",
      "Epoch 4 / 20\n"
     ]
    },
    {
     "data": {
      "text/plain": [
       "Progress: 100.0%"
      ]
     },
     "metadata": {},
     "output_type": "display_data"
    },
    {
     "name": "stderr",
     "output_type": "stream",
     "text": [
      "\n"
     ]
    },
    {
     "name": "stdout",
     "output_type": "stream",
     "text": [
      "41739ms 818us/step - acc=0.988 loss=0.0390 val_acc=0.987 val_loss=0.0487 \n",
      "Epoch 5 / 20\n"
     ]
    },
    {
     "data": {
      "text/plain": [
       "Progress: 100.0%"
      ]
     },
     "metadata": {},
     "output_type": "display_data"
    },
    {
     "name": "stderr",
     "output_type": "stream",
     "text": [
      "\n"
     ]
    },
    {
     "name": "stdout",
     "output_type": "stream",
     "text": [
      "42047ms 824us/step - acc=0.990 loss=0.0333 val_acc=0.992 val_loss=0.0279 \n",
      "Epoch 6 / 20\n"
     ]
    },
    {
     "data": {
      "text/plain": [
       "Progress: 100.0%"
      ]
     },
     "metadata": {},
     "output_type": "display_data"
    },
    {
     "name": "stderr",
     "output_type": "stream",
     "text": [
      "\n"
     ]
    },
    {
     "name": "stdout",
     "output_type": "stream",
     "text": [
      "42048ms 824us/step - acc=0.991 loss=0.0284 val_acc=0.993 val_loss=0.0288 \n",
      "Epoch 7 / 20\n"
     ]
    },
    {
     "data": {
      "text/plain": [
       "Progress: 100.0%"
      ]
     },
     "metadata": {},
     "output_type": "display_data"
    },
    {
     "name": "stderr",
     "output_type": "stream",
     "text": [
      "\n"
     ]
    },
    {
     "name": "stdout",
     "output_type": "stream",
     "text": [
      "42536ms 834us/step - acc=0.992 loss=0.0257 val_acc=0.993 val_loss=0.0290 \n",
      "Epoch 8 / 20\n"
     ]
    },
    {
     "data": {
      "text/plain": [
       "Progress: 100.0%"
      ]
     },
     "metadata": {},
     "output_type": "display_data"
    },
    {
     "name": "stderr",
     "output_type": "stream",
     "text": [
      "\n"
     ]
    },
    {
     "name": "stdout",
     "output_type": "stream",
     "text": [
      "42460ms 833us/step - acc=0.993 loss=0.0227 val_acc=0.994 val_loss=0.0248 \n",
      "Epoch 9 / 20\n"
     ]
    },
    {
     "data": {
      "text/plain": [
       "Progress: 100.0%"
      ]
     },
     "metadata": {},
     "output_type": "display_data"
    },
    {
     "name": "stderr",
     "output_type": "stream",
     "text": [
      "\n"
     ]
    },
    {
     "name": "stdout",
     "output_type": "stream",
     "text": [
      "42492ms 833us/step - acc=0.994 loss=0.0194 val_acc=0.994 val_loss=0.0233 \n",
      "Epoch 10 / 20\n"
     ]
    },
    {
     "data": {
      "text/plain": [
       "Progress: 100.0%"
      ]
     },
     "metadata": {},
     "output_type": "display_data"
    },
    {
     "name": "stderr",
     "output_type": "stream",
     "text": [
      "\n"
     ]
    },
    {
     "name": "stdout",
     "output_type": "stream",
     "text": [
      "42412ms 832us/step - acc=0.994 loss=0.0177 val_acc=0.992 val_loss=0.0267 \n",
      "Epoch 11 / 20\n"
     ]
    },
    {
     "data": {
      "text/plain": [
       "Progress: 100.0%"
      ]
     },
     "metadata": {},
     "output_type": "display_data"
    },
    {
     "name": "stderr",
     "output_type": "stream",
     "text": [
      "\n"
     ]
    },
    {
     "name": "stdout",
     "output_type": "stream",
     "text": [
      "42587ms 835us/step - acc=0.995 loss=0.0158 val_acc=0.994 val_loss=0.0275 \n",
      "Epoch 12 / 20\n"
     ]
    },
    {
     "data": {
      "text/plain": [
       "Progress: 100.0%"
      ]
     },
     "metadata": {},
     "output_type": "display_data"
    },
    {
     "name": "stderr",
     "output_type": "stream",
     "text": [
      "\n"
     ]
    },
    {
     "name": "stdout",
     "output_type": "stream",
     "text": [
      "42507ms 833us/step - acc=0.995 loss=0.0146 val_acc=0.994 val_loss=0.0307 \n",
      "Epoch 13 / 20\n"
     ]
    },
    {
     "data": {
      "text/plain": [
       "Progress: 100.0%"
      ]
     },
     "metadata": {},
     "output_type": "display_data"
    },
    {
     "name": "stderr",
     "output_type": "stream",
     "text": [
      "\n"
     ]
    },
    {
     "name": "stdout",
     "output_type": "stream",
     "text": [
      "42602ms 835us/step - acc=0.996 loss=0.0126 val_acc=0.994 val_loss=0.0292 \n",
      "Epoch 14 / 20\n"
     ]
    },
    {
     "data": {
      "text/plain": [
       "Progress: 100.0%"
      ]
     },
     "metadata": {},
     "output_type": "display_data"
    },
    {
     "name": "stderr",
     "output_type": "stream",
     "text": [
      "\n"
     ]
    },
    {
     "name": "stdout",
     "output_type": "stream",
     "text": [
      "42281ms 829us/step - acc=0.996 loss=0.0122 val_acc=0.994 val_loss=0.0243 \n",
      "Epoch 15 / 20\n"
     ]
    },
    {
     "data": {
      "text/plain": [
       "Progress: 100.0%"
      ]
     },
     "metadata": {},
     "output_type": "display_data"
    },
    {
     "name": "stderr",
     "output_type": "stream",
     "text": [
      "\n"
     ]
    },
    {
     "name": "stdout",
     "output_type": "stream",
     "text": [
      "41718ms 818us/step - acc=0.996 loss=0.0120 val_acc=0.995 val_loss=0.0236 \n",
      "Epoch 16 / 20\n"
     ]
    },
    {
     "data": {
      "text/plain": [
       "Progress: 100.0%"
      ]
     },
     "metadata": {},
     "output_type": "display_data"
    },
    {
     "name": "stderr",
     "output_type": "stream",
     "text": [
      "\n"
     ]
    },
    {
     "name": "stdout",
     "output_type": "stream",
     "text": [
      "41984ms 823us/step - acc=0.997 loss=0.0109 val_acc=0.994 val_loss=0.0280 \n",
      "Epoch 17 / 20\n"
     ]
    },
    {
     "data": {
      "text/plain": [
       "Progress: 100.0%"
      ]
     },
     "metadata": {},
     "output_type": "display_data"
    },
    {
     "name": "stderr",
     "output_type": "stream",
     "text": [
      "\n"
     ]
    },
    {
     "name": "stdout",
     "output_type": "stream",
     "text": [
      "42295ms 829us/step - acc=0.996 loss=0.0101 val_acc=0.994 val_loss=0.0321 \n",
      "Epoch 18 / 20\n"
     ]
    },
    {
     "data": {
      "text/plain": [
       "Progress: 100.0%"
      ]
     },
     "metadata": {},
     "output_type": "display_data"
    },
    {
     "name": "stderr",
     "output_type": "stream",
     "text": [
      "\n"
     ]
    },
    {
     "name": "stdout",
     "output_type": "stream",
     "text": [
      "42540ms 834us/step - acc=0.997 loss=9.02e-3 val_acc=0.993 val_loss=0.0322 \n",
      "Epoch 19 / 20\n"
     ]
    },
    {
     "data": {
      "text/plain": [
       "Progress: 100.0%"
      ]
     },
     "metadata": {},
     "output_type": "display_data"
    },
    {
     "name": "stderr",
     "output_type": "stream",
     "text": [
      "\n"
     ]
    },
    {
     "name": "stdout",
     "output_type": "stream",
     "text": [
      "42968ms 843us/step - acc=0.997 loss=9.14e-3 val_acc=0.995 val_loss=0.0305 \n",
      "Epoch 20 / 20\n"
     ]
    },
    {
     "data": {
      "text/plain": [
       "Progress: 100.0%"
      ]
     },
     "metadata": {},
     "output_type": "display_data"
    },
    {
     "name": "stderr",
     "output_type": "stream",
     "text": [
      "\n"
     ]
    },
    {
     "name": "stdout",
     "output_type": "stream",
     "text": [
      "42547ms 834us/step - acc=0.997 loss=9.66e-3 val_acc=0.994 val_loss=0.0277 \n",
      "\n",
      "Evaluation result:\n",
      "  Loss = 0.020; Accuracy = 0.995\n",
      "Saved model to path: cnn_mnist\n"
     ]
    }
   ],
   "source": [
    "const epochs = 20;\n",
    "const batchSize = 128;\n",
    "const modelSavePath = 'cnn_mnist'\n",
    "await train(cnnModel, epochs, batchSize, modelSavePath);"
   ]
  },
  {
   "cell_type": "markdown",
   "metadata": {},
   "source": [
    "テストデータに対する精度が99.4%まで上昇しました。先の単純なモデルでやったように、CNNを使ってもなお認識に失敗している画像を表示してみましょう。\n",
    "最初の単純なモデルの失敗例に比べると、人間でも認識に失敗しそうな、あるいはラベルが間違っていると言いたくなるような例が多くなっており、文字認識の精度が大きく向上していることが体感できると思います。"
   ]
  },
  {
   "cell_type": "code",
   "execution_count": 13,
   "metadata": {},
   "outputs": [
    {
     "data": {
      "text/html": [
       "<h3>予測: 6, 正解: 5</h3>"
      ]
     },
     "metadata": {},
     "output_type": "display_data"
    },
    {
     "data": {
      "image/png": "[encoded data removed]"
     },
     "metadata": {},
     "output_type": "display_data"
    },
    {
     "data": {
      "text/html": [
       "<h3>予測: 7, 正解: 2</h3>"
      ]
     },
     "metadata": {},
     "output_type": "display_data"
    },
    {
     "data": {
      "image/png": "[encoded data removed]"
     },
     "metadata": {},
     "output_type": "display_data"
    },
    {
     "data": {
      "text/html": [
       "<h3>予測: 2, 正解: 8</h3>"
      ]
     },
     "metadata": {},
     "output_type": "display_data"
    },
    {
     "data": {
      "image/png": "[encoded data removed]"
     },
     "metadata": {},
     "output_type": "display_data"
    },
    {
     "data": {
      "text/html": [
       "<h3>予測: 6, 正解: 2</h3>"
      ]
     },
     "metadata": {},
     "output_type": "display_data"
    },
    {
     "data": {
      "image/png": "[encoded data removed]"
     },
     "metadata": {},
     "output_type": "display_data"
    },
    {
     "data": {
      "text/html": [
       "<h3>予測: 1, 正解: 2</h3>"
      ]
     },
     "metadata": {},
     "output_type": "display_data"
    },
    {
     "data": {
      "image/png": "[encoded data removed]"
     },
     "metadata": {},
     "output_type": "display_data"
    },
    {
     "data": {
      "text/html": [
       "<h3>予測: 9, 正解: 8</h3>"
      ]
     },
     "metadata": {},
     "output_type": "display_data"
    },
    {
     "data": {
      "image/png": "[encoded data removed]"
     },
     "metadata": {},
     "output_type": "display_data"
    },
    {
     "data": {
      "text/html": [
       "<h3>予測: 5, 正解: 6</h3>"
      ]
     },
     "metadata": {},
     "output_type": "display_data"
    },
    {
     "data": {
      "image/png": "[encoded data removed]"
     },
     "metadata": {},
     "output_type": "display_data"
    },
    {
     "data": {
      "text/html": [
       "<h3>予測: 4, 正解: 9</h3>"
      ]
     },
     "metadata": {},
     "output_type": "display_data"
    },
    {
     "data": {
      "image/png": "[encoded data removed]"
     },
     "metadata": {},
     "output_type": "display_data"
    },
    {
     "data": {
      "text/html": [
       "<h3>予測: 1, 正解: 7</h3>"
      ]
     },
     "metadata": {},
     "output_type": "display_data"
    },
    {
     "data": {
      "image/png": "[encoded data removed]"
     },
     "metadata": {},
     "output_type": "display_data"
    },
    {
     "data": {
      "text/html": [
       "<h3>予測: 7, 正解: 5</h3>"
      ]
     },
     "metadata": {},
     "output_type": "display_data"
    },
    {
     "data": {
      "image/png": "[encoded data removed]"
     },
     "metadata": {},
     "output_type": "display_data"
    },
    {
     "data": {
      "text/html": [
       "<h3>予測: 6, 正解: 5</h3>"
      ]
     },
     "metadata": {},
     "output_type": "display_data"
    },
    {
     "data": {
      "image/png": "[encoded data removed]"
     },
     "metadata": {},
     "output_type": "display_data"
    },
    {
     "data": {
      "text/html": [
       "<h3>予測: 3, 正解: 5</h3>"
      ]
     },
     "metadata": {},
     "output_type": "display_data"
    },
    {
     "data": {
      "image/png": "[encoded data removed]"
     },
     "metadata": {},
     "output_type": "display_data"
    },
    {
     "data": {
      "text/html": [
       "<h3>予測: 4, 正解: 9</h3>"
      ]
     },
     "metadata": {},
     "output_type": "display_data"
    },
    {
     "data": {
      "image/png": "[encoded data removed]"
     },
     "metadata": {},
     "output_type": "display_data"
    },
    {
     "data": {
      "text/html": [
       "<h3>予測: 9, 正解: 7</h3>"
      ]
     },
     "metadata": {},
     "output_type": "display_data"
    },
    {
     "data": {
      "image/png": "[encoded data removed]"
     },
     "metadata": {},
     "output_type": "display_data"
    },
    {
     "data": {
      "text/html": [
       "<h3>予測: 6, 正解: 0</h3>"
      ]
     },
     "metadata": {},
     "output_type": "display_data"
    },
    {
     "data": {
      "image/png": "[encoded data removed]"
     },
     "metadata": {},
     "output_type": "display_data"
    },
    {
     "data": {
      "text/html": [
       "<h3>予測: 7, 正解: 2</h3>"
      ]
     },
     "metadata": {},
     "output_type": "display_data"
    },
    {
     "data": {
      "image/png": "[encoded data removed]"
     },
     "metadata": {},
     "output_type": "display_data"
    },
    {
     "data": {
      "text/html": [
       "<h3>予測: 4, 正解: 9</h3>"
      ]
     },
     "metadata": {},
     "output_type": "display_data"
    },
    {
     "data": {
      "image/png": "[encoded data removed]"
     },
     "metadata": {},
     "output_type": "display_data"
    },
    {
     "data": {
      "text/html": [
       "<h3>予測: 9, 正解: 4</h3>"
      ]
     },
     "metadata": {},
     "output_type": "display_data"
    },
    {
     "data": {
      "image/png": "[encoded data removed]"
     },
     "metadata": {},
     "output_type": "display_data"
    },
    {
     "data": {
      "text/html": [
       "<h3>予測: 1, 正解: 6</h3>"
      ]
     },
     "metadata": {},
     "output_type": "display_data"
    },
    {
     "data": {
      "image/png": "[encoded data removed]"
     },
     "metadata": {},
     "output_type": "display_data"
    },
    {
     "data": {
      "text/html": [
       "<h3>予測: 6, 正解: 9</h3>"
      ]
     },
     "metadata": {},
     "output_type": "display_data"
    },
    {
     "data": {
      "image/png": "[encoded data removed]"
     },
     "metadata": {},
     "output_type": "display_data"
    },
    {
     "data": {
      "text/html": [
       "<h3>予測: 4, 正解: 9</h3>"
      ]
     },
     "metadata": {},
     "output_type": "display_data"
    },
    {
     "data": {
      "image/png": "[encoded data removed]"
     },
     "metadata": {},
     "output_type": "display_data"
    },
    {
     "data": {
      "text/html": [
       "<h3>予測: 0, 正解: 2</h3>"
      ]
     },
     "metadata": {},
     "output_type": "display_data"
    },
    {
     "data": {
      "image/png": "[encoded data removed]"
     },
     "metadata": {},
     "output_type": "display_data"
    },
    {
     "data": {
      "text/html": [
       "<h3>予測: 3, 正解: 5</h3>"
      ]
     },
     "metadata": {},
     "output_type": "display_data"
    },
    {
     "data": {
      "image/png": "[encoded data removed]"
     },
     "metadata": {},
     "output_type": "display_data"
    },
    {
     "data": {
      "text/html": [
       "<h3>予測: 1, 正解: 6</h3>"
      ]
     },
     "metadata": {},
     "output_type": "display_data"
    },
    {
     "data": {
      "image/png": "[encoded data removed]"
     },
     "metadata": {},
     "output_type": "display_data"
    },
    {
     "data": {
      "text/html": [
       "<h3>予測: 4, 正解: 9</h3>"
      ]
     },
     "metadata": {},
     "output_type": "display_data"
    },
    {
     "data": {
      "image/png": "[encoded data removed]"
     },
     "metadata": {},
     "output_type": "display_data"
    },
    {
     "data": {
      "text/html": [
       "<h3>予測: 2, 正解: 3</h3>"
      ]
     },
     "metadata": {},
     "output_type": "display_data"
    },
    {
     "data": {
      "image/png": "[encoded data removed]"
     },
     "metadata": {},
     "output_type": "display_data"
    },
    {
     "data": {
      "text/html": [
       "<h3>予測: 5, 正解: 9</h3>"
      ]
     },
     "metadata": {},
     "output_type": "display_data"
    },
    {
     "data": {
      "image/png": "[encoded data removed]"
     },
     "metadata": {},
     "output_type": "display_data"
    },
    {
     "data": {
      "text/html": [
       "<h3>予測: 5, 正解: 3</h3>"
      ]
     },
     "metadata": {},
     "output_type": "display_data"
    },
    {
     "data": {
      "image/png": "[encoded data removed]"
     },
     "metadata": {},
     "output_type": "display_data"
    },
    {
     "data": {
      "text/html": [
       "<h3>予測: 0, 正解: 6</h3>"
      ]
     },
     "metadata": {},
     "output_type": "display_data"
    },
    {
     "data": {
      "image/png": "[encoded data removed]"
     },
     "metadata": {},
     "output_type": "display_data"
    },
    {
     "data": {
      "text/html": [
       "<h3>予測: 6, 正解: 1</h3>"
      ]
     },
     "metadata": {},
     "output_type": "display_data"
    },
    {
     "data": {
      "image/png": "[encoded data removed]"
     },
     "metadata": {},
     "output_type": "display_data"
    },
    {
     "data": {
      "text/html": [
       "<h3>予測: 8, 正解: 6</h3>"
      ]
     },
     "metadata": {},
     "output_type": "display_data"
    },
    {
     "data": {
      "image/png": "[encoded data removed]"
     },
     "metadata": {},
     "output_type": "display_data"
    },
    {
     "data": {
      "text/html": [
       "<h3>予測: 1, 正解: 7</h3>"
      ]
     },
     "metadata": {},
     "output_type": "display_data"
    },
    {
     "data": {
      "image/png": "[encoded data removed]"
     },
     "metadata": {},
     "output_type": "display_data"
    }
   ],
   "source": [
    "const predicted = /** @type {number[]} */(tf.argMax(/** @type {tf.Tensor} */ (cnnModel.predict(mnist.getTestData().images)), 1).arraySync());\n",
    "const labels = /** @type {number[]} */(tf.argMax(mnist.getTestData().labels, 1).arraySync());\n",
    "\n",
    "const numSamples = 32;\n",
    "let count = 0;\n",
    "for (let i = 0; i < predicted.length && labels.length; i++) {\n",
    "    const pred = predicted[i];\n",
    "    const label = labels[i];\n",
    "    if (pred === label) {\n",
    "        continue;\n",
    "    }\n",
    "    tslab.display.html(`<h3>予測: ${pred}, 正解: ${label}</h3>`)\n",
    "    const pngs = await toPng(mnist.getTestData().images, i, 1);\n",
    "    tslab.display.png(pngs[0]);\n",
    "    count++;\n",
    "    if (count >= numSamples) {\n",
    "        break;\n",
    "    }\n",
    "}"
   ]
  },
  {
   "cell_type": "markdown",
   "metadata": {},
   "source": [
    "以上でJavaScriptのみで複雑なディープラーニングモデルを構築・訓練から実際にアプリケーション上で推論を行うところまでエンドツーエンドで行うことができました。TensorFlow.jsを使っているので、完成したモデルをブラウザ上で実行することも最小限の追加コードで実現できます。詳しくは[TensorFlow.js](https://www.tensorflow.org/js/guide)のドキュメントや他の人による解説記事を参照してください。"
   ]
  }
 ],
 "metadata": {
  "kernelspec": {
   "display_name": "JavaScript",
   "language": "javascript",
   "name": "jslab"
  },
  "language_info": {
   "file_extension": ".js",
   "mimetype": "text/javascript",
   "name": "javascript",
   "version": ""
  }
 },
 "nbformat": 4,
 "nbformat_minor": 4
}
